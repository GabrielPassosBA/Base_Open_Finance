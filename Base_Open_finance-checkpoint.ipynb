{
 "cells": [
  {
   "cell_type": "markdown",
   "id": "7fd442f7",
   "metadata": {},
   "source": [
    "# Importar Bibliotecas necessárias "
   ]
  },
  {
   "cell_type": "code",
   "execution_count": 1,
   "id": "97450af1",
   "metadata": {},
   "outputs": [],
   "source": [
    "from faker import Faker\n",
    "import random\n",
    "import pandas as pd\n",
    "from random import randint\n",
    "import time\n",
    "from random import randrange\n",
    "from datetime import timedelta"
   ]
  },
  {
   "cell_type": "code",
   "execution_count": 2,
   "id": "19a1f1f6",
   "metadata": {},
   "outputs": [],
   "source": [
    "fake = Faker()"
   ]
  },
  {
   "cell_type": "markdown",
   "id": "1baa00c1",
   "metadata": {},
   "source": [
    "# Criar base de dados dos clientes "
   ]
  },
  {
   "cell_type": "code",
   "execution_count": 3,
   "id": "10e16d09",
   "metadata": {},
   "outputs": [],
   "source": [
    "# Função para gerar dados de clientes\n",
    "def generate_clients(num_clients):\n",
    "    clients = []\n",
    "    for _ in range(num_clients):\n",
    "        client = {\n",
    "            \"IdCliet\": fake.color(luminosity='light'),\n",
    "            \"TypePeople\": fake.random_element([\"F\", \"J\"]),\n",
    "            \"BankName\": fake.random_element([\"BankRed\",\"BankGreen\",\"BankPurple\",\"BankOrange\", \"BankBlue\", \"BankPink\"]),\n",
    "        }\n",
    "        clients.append(client)\n",
    "    return clients"
   ]
  },
  {
   "cell_type": "code",
   "execution_count": 4,
   "id": "f0c0eaef",
   "metadata": {},
   "outputs": [],
   "source": [
    "num_clients = 10000"
   ]
  },
  {
   "cell_type": "code",
   "execution_count": 5,
   "id": "6e0109ee",
   "metadata": {},
   "outputs": [],
   "source": [
    "clients_data = generate_clients(num_clients)"
   ]
  },
  {
   "cell_type": "code",
   "execution_count": 6,
   "id": "90263170",
   "metadata": {},
   "outputs": [],
   "source": [
    "clients_df = pd.DataFrame(clients_data)"
   ]
  },
  {
   "cell_type": "code",
   "execution_count": 7,
   "id": "73c765a8",
   "metadata": {},
   "outputs": [],
   "source": [
    "#clients_df.head()"
   ]
  },
  {
   "cell_type": "code",
   "execution_count": 8,
   "id": "152c0d29",
   "metadata": {},
   "outputs": [],
   "source": [
    "#clients_df.shape"
   ]
  },
  {
   "cell_type": "code",
   "execution_count": 9,
   "id": "5f725bf3",
   "metadata": {},
   "outputs": [],
   "source": [
    "#clients_df['IdCliet'].nunique()"
   ]
  },
  {
   "cell_type": "markdown",
   "id": "4d2d8670",
   "metadata": {},
   "source": [
    "# Base de clientes Finalizada com sucesso "
   ]
  },
  {
   "cell_type": "markdown",
   "id": "2c8a2ee1",
   "metadata": {},
   "source": [
    "##########################################################################################################################"
   ]
  },
  {
   "cell_type": "markdown",
   "id": "a3b83cfb",
   "metadata": {},
   "source": [
    "# Criar base de dados informação de cartão e produtos"
   ]
  },
  {
   "cell_type": "code",
   "execution_count": 10,
   "id": "56286d4b",
   "metadata": {},
   "outputs": [],
   "source": [
    "# Função para gerar dados de contas bancárias\n",
    "def generate_bank_accounts(num_accounts):\n",
    "    accounts = []\n",
    "    for _ in range(num_accounts):\n",
    "        account = {\n",
    "            \"IdCliet\": fake.color(luminosity='light'),\n",
    "            \"CreditCardFlag\": fake.random_element([\"Visa\", \"Mastercard\", \"Elo\", \"AmericanExpress\"]),\n",
    "            \"CreditCardProduct\": fake.random_element([\"International\", \"Gold\", \"Platinum\", \"Black\"]),\n",
    "            \"NumberOfCards\": fake.random_element([1,2,3])\n",
    "             }\n",
    "        accounts.append(account)\n",
    "    return accounts"
   ]
  },
  {
   "cell_type": "code",
   "execution_count": 11,
   "id": "5995c749",
   "metadata": {},
   "outputs": [],
   "source": [
    "num_accounts = 10000"
   ]
  },
  {
   "cell_type": "code",
   "execution_count": 12,
   "id": "1589244f",
   "metadata": {},
   "outputs": [],
   "source": [
    "accounts_data = generate_bank_accounts(num_accounts)"
   ]
  },
  {
   "cell_type": "code",
   "execution_count": 13,
   "id": "0a6e625c",
   "metadata": {},
   "outputs": [],
   "source": [
    "accounts_df = pd.DataFrame(accounts_data)"
   ]
  },
  {
   "cell_type": "code",
   "execution_count": 14,
   "id": "386db314",
   "metadata": {},
   "outputs": [],
   "source": [
    "#accounts_df.head()"
   ]
  },
  {
   "cell_type": "code",
   "execution_count": 15,
   "id": "137dded5",
   "metadata": {},
   "outputs": [],
   "source": [
    "#accounts_df.shape"
   ]
  },
  {
   "cell_type": "code",
   "execution_count": 16,
   "id": "73387418",
   "metadata": {},
   "outputs": [],
   "source": [
    "#accounts_df['IdCliet'].nunique()"
   ]
  },
  {
   "cell_type": "markdown",
   "id": "b40b6594",
   "metadata": {},
   "source": [
    "# Base de cartão e produto finalizada com sucesso"
   ]
  },
  {
   "cell_type": "markdown",
   "id": "752f927e",
   "metadata": {},
   "source": [
    "#########################################################################################################################"
   ]
  },
  {
   "cell_type": "markdown",
   "id": "9ef17620",
   "metadata": {},
   "source": [
    "# Criar base de dados de pagamentos e datas "
   ]
  },
  {
   "cell_type": "code",
   "execution_count": 17,
   "id": "e099942e",
   "metadata": {},
   "outputs": [],
   "source": [
    "# Função para gerar dados de transações\n",
    "def generate_transactions(num_transactions):\n",
    "    transactions = []\n",
    "    for _ in range(num_transactions):\n",
    "        transaction = {\n",
    "            \"IdCliet\": fake.color(luminosity='light'),\n",
    "            \"PayAmount\": round(random.uniform(10.0, 10000.0), 2),\n",
    "            \"Amount\": round(random.uniform(10.0, 10000.0), 2),\n",
    "            \"DueDate\": fake.date_between(start_date='-1y', end_date='today'),\n",
    "            \"PayDate\": fake.date_between(start_date='-1y', end_date='today')\n",
    "        }\n",
    "        transactions.append(transaction)\n",
    "    return transactions"
   ]
  },
  {
   "cell_type": "code",
   "execution_count": 18,
   "id": "883edbdb",
   "metadata": {},
   "outputs": [],
   "source": [
    "# Gerar dados fictícios para 100 clientes, 200 contas bancárias e 500 transações\n",
    "num_transactions = 100000"
   ]
  },
  {
   "cell_type": "code",
   "execution_count": 19,
   "id": "6ed87e09",
   "metadata": {},
   "outputs": [],
   "source": [
    "transactions_data = generate_transactions(num_transactions)"
   ]
  },
  {
   "cell_type": "code",
   "execution_count": 20,
   "id": "df617cb6",
   "metadata": {},
   "outputs": [],
   "source": [
    "# Criar DataFrames do Pandas com os dados gerados\n",
    "transactions_df = pd.DataFrame(transactions_data)"
   ]
  },
  {
   "cell_type": "code",
   "execution_count": 21,
   "id": "6f620053",
   "metadata": {},
   "outputs": [],
   "source": [
    "#transactions_df.head()"
   ]
  },
  {
   "cell_type": "code",
   "execution_count": 22,
   "id": "fd68e8d8",
   "metadata": {},
   "outputs": [],
   "source": [
    "#transactions_df['IdCliet'].nunique()"
   ]
  },
  {
   "cell_type": "code",
   "execution_count": 23,
   "id": "40b0072d",
   "metadata": {},
   "outputs": [],
   "source": [
    "#transactions_df.shape"
   ]
  },
  {
   "cell_type": "markdown",
   "id": "62d25693",
   "metadata": {},
   "source": [
    "# base de dados de pagamentos e datas, finalizada com sucesso"
   ]
  },
  {
   "cell_type": "markdown",
   "id": "3540825c",
   "metadata": {},
   "source": [
    "###################################################################################################################"
   ]
  },
  {
   "cell_type": "markdown",
   "id": "1452e65a",
   "metadata": {},
   "source": [
    "# Cruzamento entre tabelas"
   ]
  },
  {
   "cell_type": "code",
   "execution_count": 24,
   "id": "23b858e1",
   "metadata": {},
   "outputs": [],
   "source": [
    "df = clients_df.merge(accounts_df, how='inner' , on='IdCliet')"
   ]
  },
  {
   "cell_type": "code",
   "execution_count": 25,
   "id": "6839d009",
   "metadata": {},
   "outputs": [],
   "source": [
    "#df"
   ]
  },
  {
   "cell_type": "code",
   "execution_count": 26,
   "id": "6cef9885",
   "metadata": {},
   "outputs": [],
   "source": [
    "#df.shape"
   ]
  },
  {
   "cell_type": "code",
   "execution_count": 27,
   "id": "0d32557c",
   "metadata": {},
   "outputs": [],
   "source": [
    "df2 = df.merge(transactions_df, how='inner' , on='IdCliet')"
   ]
  },
  {
   "cell_type": "code",
   "execution_count": 28,
   "id": "7b96a45b",
   "metadata": {},
   "outputs": [],
   "source": [
    "#df2.head()"
   ]
  },
  {
   "cell_type": "code",
   "execution_count": 29,
   "id": "325785ac",
   "metadata": {},
   "outputs": [],
   "source": [
    "#df2.shape"
   ]
  },
  {
   "cell_type": "code",
   "execution_count": 65,
   "id": "235da682",
   "metadata": {},
   "outputs": [],
   "source": [
    "df2.to_excel('BaseOpenFinance_v3.xlsx', index=False)"
   ]
  },
  {
   "cell_type": "code",
   "execution_count": null,
   "id": "6aa08899",
   "metadata": {},
   "outputs": [],
   "source": []
  }
 ],
 "metadata": {
  "kernelspec": {
   "display_name": "Python 3 (ipykernel)",
   "language": "python",
   "name": "python3"
  },
  "language_info": {
   "codemirror_mode": {
    "name": "ipython",
    "version": 3
   },
   "file_extension": ".py",
   "mimetype": "text/x-python",
   "name": "python",
   "nbconvert_exporter": "python",
   "pygments_lexer": "ipython3",
   "version": "3.9.7"
  }
 },
 "nbformat": 4,
 "nbformat_minor": 5
}
